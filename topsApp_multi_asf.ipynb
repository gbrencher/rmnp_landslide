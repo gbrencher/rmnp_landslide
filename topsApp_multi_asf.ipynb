{
 "cells": [
  {
   "cell_type": "markdown",
   "id": "6a0c3345-538f-4279-b279-c7540c3349d4",
   "metadata": {},
   "source": [
    "# Processing multiple interferograms with ISCE"
   ]
  },
  {
   "cell_type": "code",
   "execution_count": 1,
   "id": "c55a91de-6b84-4f0a-b835-017461faf441",
   "metadata": {
    "scrolled": true,
    "tags": []
   },
   "outputs": [
    {
     "name": "stdout",
     "output_type": "stream",
     "text": [
      "This is the Open Source version of ISCE.\n",
      "Some of the workflows depend on a separate licensed package.\n",
      "To obtain the licensed package, please make a request for ISCE\n",
      "through the website: https://download.jpl.nasa.gov/ops/request/index.cfm.\n",
      "Alternatively, if you are a member, or can become a member of WinSAR\n",
      "you may be able to obtain access to a version of the licensed sofware at\n",
      "https://winsar.unavco.org/software/isce\n",
      "2022-12-18 21:33:26,464 - matplotlib - DEBUG - matplotlib data path: /home/jovyan/.local/envs/insar_analysis/lib/python3.8/site-packages/matplotlib/mpl-data\n",
      "2022-12-18 21:33:26,471 - matplotlib - DEBUG - CONFIGDIR=/home/jovyan/.config/matplotlib\n",
      "2022-12-18 21:33:26,473 - matplotlib - DEBUG - interactive is False\n",
      "2022-12-18 21:33:26,474 - matplotlib - DEBUG - platform is linux\n",
      "2022-12-18 21:33:26,544 - matplotlib - DEBUG - CACHEDIR=/home/jovyan/.cache/matplotlib\n",
      "2022-12-18 21:33:26,547 - matplotlib.font_manager - DEBUG - Using fontManager instance from /home/jovyan/.cache/matplotlib/fontlist-v330.json\n",
      "2022-12-18 21:33:27,583 - numcodecs - DEBUG - Registering codec 'zlib'\n",
      "2022-12-18 21:33:27,585 - numcodecs - DEBUG - Registering codec 'gzip'\n",
      "2022-12-18 21:33:27,586 - numcodecs - DEBUG - Registering codec 'bz2'\n",
      "2022-12-18 21:33:27,587 - numcodecs - DEBUG - Registering codec 'lzma'\n",
      "2022-12-18 21:33:27,590 - numcodecs - DEBUG - Registering codec 'blosc'\n",
      "2022-12-18 21:33:27,591 - numcodecs - DEBUG - Registering codec 'zstd'\n",
      "2022-12-18 21:33:27,592 - numcodecs - DEBUG - Registering codec 'lz4'\n",
      "2022-12-18 21:33:27,594 - numcodecs - DEBUG - Registering codec 'astype'\n",
      "2022-12-18 21:33:27,595 - numcodecs - DEBUG - Registering codec 'delta'\n",
      "2022-12-18 21:33:27,597 - numcodecs - DEBUG - Registering codec 'quantize'\n",
      "2022-12-18 21:33:27,598 - numcodecs - DEBUG - Registering codec 'fixedscaleoffset'\n",
      "2022-12-18 21:33:27,599 - numcodecs - DEBUG - Registering codec 'packbits'\n",
      "2022-12-18 21:33:27,600 - numcodecs - DEBUG - Registering codec 'categorize'\n",
      "2022-12-18 21:33:27,601 - numcodecs - DEBUG - Registering codec 'pickle'\n",
      "2022-12-18 21:33:27,603 - numcodecs - DEBUG - Registering codec 'base64'\n",
      "2022-12-18 21:33:27,605 - numcodecs - DEBUG - Registering codec 'shuffle'\n",
      "2022-12-18 21:33:27,606 - numcodecs - DEBUG - Registering codec 'bitround'\n",
      "2022-12-18 21:33:27,607 - numcodecs - DEBUG - Registering codec 'msgpack2'\n",
      "2022-12-18 21:33:27,608 - numcodecs - DEBUG - Registering codec 'crc32'\n",
      "2022-12-18 21:33:27,609 - numcodecs - DEBUG - Registering codec 'adler32'\n",
      "2022-12-18 21:33:27,611 - numcodecs - DEBUG - Registering codec 'json2'\n",
      "2022-12-18 21:33:27,613 - numcodecs - DEBUG - Registering codec 'vlen-utf8'\n",
      "2022-12-18 21:33:27,614 - numcodecs - DEBUG - Registering codec 'vlen-bytes'\n",
      "2022-12-18 21:33:27,615 - numcodecs - DEBUG - Registering codec 'vlen-array'\n",
      "2022-12-18 21:33:27,626 - numcodecs - DEBUG - Registering codec 'n5_wrapper'\n"
     ]
    }
   ],
   "source": [
    "# Import required packages\n",
    "import logging\n",
    "log = logging.getLogger()\n",
    "log.setLevel(logging.WARN)\n",
    "import os\n",
    "import getpass\n",
    "import asf_search as asf\n",
    "import isce\n",
    "from os import listdir\n",
    "import numpy as np\n",
    "import matplotlib.pyplot as plt\n",
    "import matplotlib.collections as mc\n",
    "from osgeo import gdal\n",
    "from datetime import datetime, timedelta\n",
    "import xarray as xr\n",
    "import rasterio as rio\n",
    "import rioxarray\n",
    "import geopandas as gpd\n",
    "import time"
   ]
  },
  {
   "cell_type": "code",
   "execution_count": 2,
   "id": "8ef2b5b1-b1fe-46f4-81ea-899e27818ee6",
   "metadata": {},
   "outputs": [
    {
     "name": "stdout",
     "output_type": "stream",
     "text": [
      "/home/jovyan/.local/ARIA-tools/tools/bin:/home/jovyan/.local/ARIA-tools/tools/ARIAtools:/home/jovyan/.local/envs/insar_analysis/lib/python3.8/site-packages/isce/applications:/home/jovyan/.local/envs/insar_analysis/bin:/opt/conda/bin:/opt/conda/condabin:/opt/conda/bin:/usr/local/sbin:/usr/local/bin:/usr/sbin:/usr/bin:/sbin:/bin/home/jovyan/.local/envs/insar_analysis/lib/python3.8/site-packages/isce/bin:/home/jovyan/.local/envs/insar_analysis/lib/python3.8/site-packages/isce/applications\n"
     ]
    }
   ],
   "source": [
    "# Set environment variables so that you can call ISCE from the command line\n",
    "os.environ['ISCE_HOME'] = os.path.dirname(isce.__file__)\n",
    "os.environ['ISCE_ROOT'] = os.path.dirname(os.environ['ISCE_HOME'])\n",
    "os.environ['PATH']+='{ISCE_HOME}/bin:{ISCE_HOME}/applications'.format(**os.environ)\n",
    "print(os.environ['PATH'])"
   ]
  },
  {
   "cell_type": "code",
   "execution_count": 3,
   "id": "a212a8e5-d356-4133-84b5-aff026ba1537",
   "metadata": {},
   "outputs": [
    {
     "name": "stdout",
     "output_type": "stream",
     "text": [
      "/home/jovyan/.local/envs/insar_analysis/lib/python3.8/site-packages/isce/applications/topsApp.py\n"
     ]
    }
   ],
   "source": [
    "!which topsApp.py"
   ]
  },
  {
   "cell_type": "code",
   "execution_count": null,
   "id": "042c5202-1a0a-4287-b965-88e5c9827fc9",
   "metadata": {},
   "outputs": [],
   "source": [
    "scene_list = ['S1A_IW_SLC__1SSV_20160806T010216_20160806T010242_012473_0137EC_EFCE',\n",
    "              'S1A_IW_SLC__1SDV_20160830T010216_20160830T010243_012823_01439D_CA21',\n",
    "              'S1B_IW_SLC__1SDV_20170726T010149_20170726T010216_006652_00BB37_781F',\n",
    "              'S1B_IW_SLC__1SDV_20170807T010150_20170807T010217_006827_00C043_4F24',\n",
    "              'S1B_IW_SLC__1SDV_20170819T010151_20170819T010218_007002_00C561_A180',\n",
    "              'S1B_IW_SLC__1SDV_20170912T010152_20170912T010219_007352_00CF90_41DC',\n",
    "              'S1B_IW_SLC__1SDV_20180721T010156_20180721T010223_011902_015E85_3A3A',\n",
    "              'S1B_IW_SLC__1SDV_20180802T010156_20180802T010223_012077_0163CE_DC97',\n",
    "              'S1B_IW_SLC__1SDV_20180814T010157_20180814T010224_012252_016935_51BF',\n",
    "              'S1B_IW_SLC__1SDV_20180826T010158_20180826T010225_012427_016EA3_9F1F',\n",
    "              'S1B_IW_SLC__1SDV_20180907T010158_20180907T010225_012602_017408_FF2F',\n",
    "              'S1B_IW_SLC__1SDV_20190716T010202_20190716T010229_017152_020442_F860',\n",
    "              'S1B_IW_SLC__1SDV_20190728T010202_20190728T010229_017327_020959_B45F',\n",
    "              'S1B_IW_SLC__1SDV_20190809T010203_20190809T010230_017502_020EA0_DD3F',\n",
    "              'S1B_IW_SLC__1SDV_20190821T010204_20190821T010231_017677_021418_5589',\n",
    "              'S1B_IW_SLC__1SDV_20190902T010204_20190902T010231_017852_021986_3E3E',\n",
    "              'S1B_IW_SLC__1SDV_20190914T010205_20190914T010232_018027_021EFB_AF4A',\n",
    "              'S1B_IW_SLC__1SDV_20200722T010208_20200722T010235_022577_02AD97_AE1D',\n",
    "              'S1B_IW_SLC__1SDV_20200803T010209_20200803T010236_022752_02B2E3_C178',\n",
    "              'S1B_IW_SLC__1SDV_20200815T010210_20200815T010237_022927_02B84B_FCB6',\n",
    "              'S1B_IW_SLC__1SDV_20200827T010211_20200827T010238_023102_02BDCC_BB77',\n",
    "              'S1B_IW_SLC__1SDV_20200908T010211_20200908T010238_023277_02C345_0255',\n",
    "              'S1B_IW_SLC__1SDV_20210717T010214_20210717T010241_027827_035208_A4DF',\n",
    "              'S1B_IW_SLC__1SDV_20210729T010215_20210729T010242_028002_03572B_9913',\n",
    "              'S1B_IW_SLC__1SDV_20210810T010215_20210810T010242_028177_035C89_6988',\n",
    "              'S1B_IW_SLC__1SDV_20210822T010216_20210822T010243_028352_036202_417A',\n",
    "              'S1B_IW_SLC__1SDV_20210903T010217_20210903T010244_028527_036777_F591'\n",
    "             ]"
   ]
  },
  {
   "cell_type": "code",
   "execution_count": null,
   "id": "388b3383-ea78-4e03-b13c-9dd8bf0ea6b0",
   "metadata": {},
   "outputs": [],
   "source": [
    "def select_pairs(scene_list, max_temp_bline):\n",
    "    scene_dates = {}\n",
    "    for scene in scene_list:\n",
    "        date = scene[17:25]\n",
    "        scene_dates[date] = scene\n",
    "        \n",
    "    pair_dict = {}\n",
    "    pair_scenes = []\n",
    "    for date1 in scene_dates:\n",
    "        for date2 in scene_dates:\n",
    "            if datetime.strptime(date2, '%Y%m%d')-datetime.strptime(date1, '%Y%m%d') < timedelta(days=max_temp_bline) and not date1 >= date2 :\n",
    "                pair_dict[f'{date1}-{date2}'] = [scene_dates[date1], scene_dates[date2]]\n",
    "                pair_scenes.append(scene_dates[date1])\n",
    "                pair_scenes.append(scene_dates[date2])\n",
    "    pair_scenes = [*set(pair_scenes)]\n",
    "    \n",
    "    print(f'number of pairs: {len(pair_dict)}')\n",
    "    \n",
    "    return pair_dict, pair_scenes"
   ]
  },
  {
   "cell_type": "code",
   "execution_count": null,
   "id": "bdfe9f2f-35f1-4a29-b567-91e890b1b154",
   "metadata": {},
   "outputs": [],
   "source": [
    "pair_dict, pair_scenes = select_pairs(scene_list, 40)"
   ]
  },
  {
   "cell_type": "code",
   "execution_count": null,
   "id": "abae26d9-e6b4-4970-8db8-25dae63032c9",
   "metadata": {},
   "outputs": [],
   "source": [
    "proc_path = '/home/jovyan/rmnp_landslide/proc_T151A'\n",
    "dem_name = 'usgs_10m.dem.wgs84'"
   ]
  },
  {
   "cell_type": "code",
   "execution_count": null,
   "id": "9e4ffb84-b4e7-421c-b445-85b71b456088",
   "metadata": {},
   "outputs": [],
   "source": [
    "for pair in pair_dict:\n",
    "    pair_path = f'{proc_path}/{pair}'\n",
    "    if not os.path.exists(pair_path):\n",
    "                          os.makedirs(pair_path)\n",
    "    !cp '{proc_path}/{dem_name}.xml' '{pair_path}/{dem_name}.xml'\n",
    "    !cp '{proc_path}/{dem_name}' '{pair_path}/{dem_name}'"
   ]
  },
  {
   "cell_type": "markdown",
   "id": "ffca146b-b4d7-41e9-967f-25994166f1d0",
   "metadata": {
    "tags": []
   },
   "source": [
    "## Download all SLCs"
   ]
  },
  {
   "cell_type": "code",
   "execution_count": null,
   "id": "1ac93aa1-1510-4f74-ab20-a946e6855b2a",
   "metadata": {},
   "outputs": [],
   "source": [
    "EARTHDATA_LOGIN = \"qbrencherUW\"\n",
    "EARTHDATA_PASSWORD = getpass.getpass()"
   ]
  },
  {
   "cell_type": "code",
   "execution_count": null,
   "id": "25b57601-b242-4170-ab05-e574d1b25678",
   "metadata": {},
   "outputs": [],
   "source": [
    "# Change to SLC directory\n",
    "os.chdir(f'{proc_path}/slc')\n",
    "\n",
    "logging.getLogger(\"urllib3\").setLevel(logging.WARNING)\n",
    "\n",
    "results = asf.granule_search(pair_scenes)\n",
    "session = asf.ASFSession().auth_with_creds(EARTHDATA_LOGIN, EARTHDATA_PASSWORD)\n",
    "results.download(path=f'{proc_path}/slc', processes=2, session=session)"
   ]
  },
  {
   "cell_type": "markdown",
   "id": "d9d666cc-986f-4dbe-b7a8-331f57a782b5",
   "metadata": {},
   "source": [
    "## Download orbital files"
   ]
  },
  {
   "cell_type": "code",
   "execution_count": null,
   "id": "f3189605-6284-48cc-9d84-ce78f4922af6",
   "metadata": {},
   "outputs": [],
   "source": [
    "os.chdir(f'{proc_path}/orbital')"
   ]
  },
  {
   "cell_type": "code",
   "execution_count": null,
   "id": "a3efb2f8-d570-4922-9cc9-d1189ce153ce",
   "metadata": {},
   "outputs": [],
   "source": [
    "%%bash\n",
    "\n",
    "wget -nc https://raw.githubusercontent.com/isce-framework/isce2/main/contrib/stack/topsStack/fetchOrbit.py\n",
    "chmod +x fetchOrbit.py"
   ]
  },
  {
   "cell_type": "code",
   "execution_count": null,
   "id": "d422ced4-ce14-4108-a7f5-dfdfc2083a6d",
   "metadata": {},
   "outputs": [],
   "source": [
    "# grab orbital files with fetchOrbit.py\n",
    "for scene in pair_scenes:\n",
    "    os.system(f'./fetchOrbit.py -i {scene}')"
   ]
  },
  {
   "cell_type": "markdown",
   "id": "8924dad9-261f-4f9a-a6c2-257864b3b7a3",
   "metadata": {},
   "source": [
    "## Write input files"
   ]
  },
  {
   "cell_type": "code",
   "execution_count": null,
   "id": "8891cffe-bbae-4edd-8fd8-5ed29f8bceba",
   "metadata": {},
   "outputs": [],
   "source": [
    "for pair in pair_dict:\n",
    "    os.chdir(f'{proc_path}/{pair}')\n",
    "    \n",
    "    reference = pair_dict[pair][0]\n",
    "    secondary = pair_dict[pair][1]\n",
    "    \n",
    "    with open('topsApp.xml', 'w') as f:\n",
    "        f.write(f\"\"\"<?xml version=\"1.0\" encoding=\"UTF-8\"?>\n",
    "    <topsApp>\n",
    "      <component name=\"topsinsar\">\n",
    "        <property name=\"Sensor name\">SENTINEL1</property>\n",
    "        <component name=\"reference\">\n",
    "            <property name=\"orbit directory\">{proc_path}/orbital</property>\n",
    "            <property name=\"output directory\">reference</property>\n",
    "            <property name=\"safe\">{proc_path}/slc/{reference}.zip</property>\n",
    "        </component>\n",
    "        <component name=\"secondary\">\n",
    "            <property name=\"orbit directory\">{proc_path}/orbital</property>\n",
    "            <property name=\"output directory\">secondary</property>\n",
    "            <property name=\"safe\">{proc_path}/slc/{secondary}.zip</property>\n",
    "        </component>\n",
    "        <property name=\"demfilename\">{proc_path}/usgs_10m.dem.wgs84</property>\n",
    "        <property name=\"useGPU\">True</property>\n",
    "        <property name=\"range looks\">6</property>\n",
    "        <property name=\"azimuth looks\">1</property>\n",
    "        <property name=\"swaths\">[1]</property>\n",
    "        <property name=\"region of interest\">[40.295, 40.310, -105.69, -105.67]</property>\n",
    "        <property name=\"do esd\">False</property>\n",
    "        <property name=\"do ionospherecorrection\">False</property>\n",
    "        <property name=\"do unwrap\">True</property>\n",
    "        <property name=\"unwrapper name\">snaphu_mcf</property>\n",
    "        <property name=\"do denseoffsets\">False</property>\n",
    "        <property name=\"geocode demfilename\">{proc_path}/usgs_10m.dem.wgs84</property>\n",
    "        <property name=\"geocode list\">['merged/topophase.cor', 'merged/filt_topophase.unw', 'merged/filt_topophase.flat']</property>\n",
    "      </component>\n",
    "    </topsApp>\"\"\")"
   ]
  },
  {
   "cell_type": "markdown",
   "id": "f93a3cd7-f90e-4a1a-aa7e-cc893c77a4ac",
   "metadata": {},
   "source": [
    "## TopsApp processing"
   ]
  },
  {
   "cell_type": "code",
   "execution_count": null,
   "id": "c16ad77e-689d-423c-8e19-51665d4216b6",
   "metadata": {
    "scrolled": true,
    "tags": []
   },
   "outputs": [],
   "source": [
    "%%time\n",
    "\n",
    "for pair in pair_dict:\n",
    "    os.chdir(f'{proc_path}/{pair}')\n",
    "    \n",
    "    !topsApp.py --start=preprocess --end=geocode"
   ]
  },
  {
   "cell_type": "markdown",
   "id": "1bed4961-427a-40f2-a957-ba9a6275fa13",
   "metadata": {},
   "source": [
    "## Filter and stack interferograms\n",
    "### Load igrams into xarray"
   ]
  },
  {
   "cell_type": "code",
   "execution_count": null,
   "id": "b7abaf78-324b-4fb0-a5f2-06a0098e6c8c",
   "metadata": {},
   "outputs": [],
   "source": [
    "# functions to load interferogram tifs to xarray\n",
    "\n",
    "def xr_read_vrt(vrt_file_path, variable_name, masked=True):\n",
    "\n",
    "    da = rioxarray.open_rasterio(vrt_file_path, masked=True)\n",
    "\n",
    "    # Extract phase and assign as variable in xr.Dataset()\n",
    "    ds = xr.Dataset()\n",
    "    da_phase = da.sel(band=2)\n",
    "    da_phase.name = variable_name\n",
    "    ds[da_phase.name] = da_phase\n",
    "\n",
    "    # Preserve top-level attributes and extract single value from value iterables e.g. (1,) --> 1\n",
    "    ds.attrs = da.attrs\n",
    "    for key, value in ds.attrs.items():\n",
    "        try:\n",
    "            if len(value) == 1:\n",
    "                ds.attrs[key] = value[0]\n",
    "        except TypeError:\n",
    "            pass\n",
    "    \n",
    "    # crop to roi\n",
    "    ds = ds.rio.clip_box(minx=-105.69, miny=40.29, maxx=-105.66, maxy=40.31) \n",
    "\n",
    "    return ds"
   ]
  },
  {
   "cell_type": "code",
   "execution_count": null,
   "id": "e6c4c323-e976-4515-bfef-7e534796144f",
   "metadata": {
    "scrolled": true,
    "tags": []
   },
   "outputs": [],
   "source": [
    "igram_dss = []\n",
    "coh_dss = []\n",
    "igram_name = 'merged/filt_topophase.unw.geo.vrt'\n",
    "coh_name = 'merged/topophase.cor.geo.vrt'\n",
    "\n",
    "for pair in pair_dict:\n",
    "    igram_src = xr_read_vrt(f'{proc_path}/{pair}/{igram_name}', 'unw_phase')\n",
    "    igram_src = igram_src.assign_coords({\"dates\": pair})\n",
    "    igram_src = igram_src.expand_dims(\"dates\")\n",
    "    igram_dss.append(igram_src)\n",
    "                            \n",
    "    coh_src = xr_read_vrt(f'{proc_path}/{pair}/{coh_name}', 'coherence')\n",
    "    coh_src = coh_src.assign_coords({\"dates\": pair})\n",
    "    coh_src = coh_src.expand_dims(\"dates\")\n",
    "    coh_dss.append(coh_src)"
   ]
  },
  {
   "cell_type": "code",
   "execution_count": null,
   "id": "40347759-32b3-41ef-a9c0-8dc368b1c814",
   "metadata": {},
   "outputs": [],
   "source": [
    "# standardize coordinates before concat\n",
    "igram_dss_standard = [igram_dss[0]]\n",
    "coh_dss_standard = []\n",
    "\n",
    "x_reference = igram_dss[0]['x'].values\n",
    "y_reference = igram_dss[0]['y'].values\n",
    "\n",
    "for ds in igram_dss[1:]:\n",
    "    ds = ds.assign_coords({'x': ('x', x_reference),\n",
    "                      'y': ('y', y_reference)})\n",
    "    igram_dss_standard.append(ds)\n",
    "    \n",
    "for ds in coh_dss:\n",
    "    ds = ds.assign_coords({'x': ('x', x_reference),\n",
    "                      'y': ('y', y_reference)})\n",
    "    coh_dss_standard.append(ds)\n",
    "    \n",
    "\n",
    "igram_ds = xr.concat(igram_dss_standard, dim='dates', combine_attrs=\"no_conflicts\") #create dataset\n",
    "coh_ds = xr.concat(coh_dss_standard, dim='dates', combine_attrs=\"no_conflicts\") #create dataset\n",
    "igram_ds['coherence'] = (('dates', 'y', 'x'), coh_ds['coherence'].values)"
   ]
  },
  {
   "cell_type": "markdown",
   "id": "208796fc-119d-44de-8888-46d5b113c72f",
   "metadata": {},
   "source": [
    "### Change reference points"
   ]
  },
  {
   "cell_type": "code",
   "execution_count": null,
   "id": "f02a15ee-244a-42ef-aa72-306436867963",
   "metadata": {},
   "outputs": [],
   "source": [
    "# function to find value of new reference point in each time slice and subtract it from data array\n",
    "rref_list = []\n",
    "\n",
    "def change_ref(ds, lat, lon):\n",
    "    reref = ds.copy(deep=True)\n",
    "    for i in range(ds.sizes['dates']):\n",
    "        # get value from grid\n",
    "        rref_list.append(float(ds.isel(dates=i).unw_phase.sel(x=lon, y=lat, method='nearest').values))\n",
    "    reref['unw_phase'] = ds['unw_phase'] - xr.DataArray(rref_list, dims='dates')\n",
    "    return reref "
   ]
  },
  {
   "cell_type": "code",
   "execution_count": null,
   "id": "de459c37-6738-41a2-be30-47922097e555",
   "metadata": {
    "tags": []
   },
   "outputs": [],
   "source": [
    "igram_ds = change_ref(igram_ds, 40.302247, -105.672370)"
   ]
  },
  {
   "cell_type": "markdown",
   "id": "121f20c6-be97-42ef-92d0-ab8671a80ede",
   "metadata": {},
   "source": [
    "### Convert to velocities in m/yr"
   ]
  },
  {
   "cell_type": "code",
   "execution_count": null,
   "id": "fadebc90-19e4-40c8-a4a0-3baf35595536",
   "metadata": {},
   "outputs": [],
   "source": [
    "delta_list = []\n",
    "for date in igram_ds['dates'].values:\n",
    "    delta_list.append((datetime.strptime(date[9:17], '%Y%m%d')-datetime.strptime(date[0:8], '%Y%m%d')).days)\n",
    "    \n",
    "igram_ds = igram_ds.assign_coords({'timedelta':('timedelta', delta_list)})\n",
    "\n",
    "veloc = (((igram_ds['unw_phase']*0.05546576/12.5663706)/igram_ds['timedelta']))[0].values\n",
    "igram_ds['veloc'] = (('y', 'x', 'dates'), veloc.data)\n",
    "igram_ds = igram_ds.drop_dims('timedelta')"
   ]
  },
  {
   "cell_type": "code",
   "execution_count": null,
   "id": "536f9331-2cd9-4fb3-80bd-d946e7e1abdc",
   "metadata": {
    "scrolled": true,
    "tags": []
   },
   "outputs": [],
   "source": [
    "f, ax = plt.subplots()\n",
    "ax.imshow(igram_ds['veloc'].median(dim=\"dates\"), cmap='RdBu', vmin=-0.3, vmax=0.3) "
   ]
  },
  {
   "cell_type": "markdown",
   "id": "5d808152-23e0-4288-b76e-df9dba2039bc",
   "metadata": {},
   "source": [
    "### filter and stack"
   ]
  },
  {
   "cell_type": "code",
   "execution_count": null,
   "id": "60f2a4e5-6084-43be-a60d-814eb7d21067",
   "metadata": {},
   "outputs": [],
   "source": [
    "# all years \n",
    "f, ax = plt.subplots(3, 1, figsize=(10, 10))\n",
    "ax[0].imshow(igram_ds['veloc'].where(igram_ds['coherence'] > 0.5).mean(dim='dates'),\n",
    "         cmap='RdBu', vmin=-0.4, vmax=0.4)\n",
    "ax[1].imshow(igram_ds['veloc'].where(igram_ds['coherence'] > 0.5).count(dim='dates'), cmap='Blues', vmax=43)\n",
    "f.tight_layout()\n",
    "ax[2].imshow(igram_ds['veloc'].where(igram_ds['coherence'] > 0.5).std(dim='dates'), cmap='Blues', vmax=0.1)\n",
    "f.tight_layout()"
   ]
  },
  {
   "cell_type": "code",
   "execution_count": null,
   "id": "1042abe5-831c-4388-b2bd-9659386e9ba7",
   "metadata": {
    "scrolled": true,
    "tags": []
   },
   "outputs": [],
   "source": [
    "# save filtered velocities and counts \n",
    "#igram_ds['veloc'].where(igram_ds['coherence'] > 0.5).mean(dim='dates').rio.to_raster('asc_veloc_mean_0.5coh.tif')\n",
    "\n",
    "# for some reason these two aren't saving correctly. \n",
    "igram_ds['veloc'].where(igram_ds['coherence'] > 0.5).count(dim='dates').rio.to_raster('asc_veloc_count_0.5coh.tif')\n",
    "igram_ds['veloc'].where(igram_ds['coherence'] > 0.5).count(dim='dates').rio.to_raster('asc_veloc_std_0.5coh.tif')"
   ]
  },
  {
   "cell_type": "markdown",
   "id": "b4a5ff7a-b958-4a4d-9685-d6f9a6a9d753",
   "metadata": {},
   "source": [
    "### mean veloc in feature"
   ]
  },
  {
   "cell_type": "code",
   "execution_count": null,
   "id": "505a8aeb-2e67-48ef-8a41-48023b8aae26",
   "metadata": {
    "scrolled": true,
    "tags": []
   },
   "outputs": [],
   "source": [
    "# load json of aoi \n",
    "aoi_fn = '/home/jovyan/rmnp_landslide/moving_area.shp'\n",
    "aoi_gdf = gpd.read_file(aoi_fn)"
   ]
  },
  {
   "cell_type": "code",
   "execution_count": null,
   "id": "414c4089-17de-4f97-8290-9f37cf24c19a",
   "metadata": {
    "scrolled": true,
    "tags": []
   },
   "outputs": [],
   "source": [
    "igram_aoi = igram_ds.rio.clip(aoi_gdf.geometry, crs=aoi_gdf.crs, drop=False)"
   ]
  },
  {
   "cell_type": "code",
   "execution_count": null,
   "id": "197e56b7-f93d-49c1-892a-988e0e997a0a",
   "metadata": {},
   "outputs": [],
   "source": [
    "# mean velocity\n",
    "np.nanmean(igram_aoi['veloc'].where(igram_ds['coherence'] > 0.5).values.ravel())"
   ]
  },
  {
   "cell_type": "code",
   "execution_count": null,
   "id": "8d1aa919-686d-492c-a7ec-9983b34e8edc",
   "metadata": {},
   "outputs": [],
   "source": [
    "# velocity std dev\n",
    "np.nanstd(igram_aoi['veloc'].where(igram_ds['coherence'] > 0.5).values.ravel())"
   ]
  },
  {
   "cell_type": "code",
   "execution_count": null,
   "id": "d69a7910-9742-449d-8a85-71115810b7b1",
   "metadata": {},
   "outputs": [],
   "source": [
    "# max velocity\n",
    "np.nanmin(igram_aoi['veloc'].where(igram_ds['coherence'] > 0.5).mean(dim='dates').values.ravel())"
   ]
  },
  {
   "cell_type": "code",
   "execution_count": null,
   "id": "8f4e9124-13d3-4aac-89b2-922fe04d5d84",
   "metadata": {},
   "outputs": [],
   "source": [
    "# mean coherence\n",
    "np.nanmean(igram_aoi['coherence'].values.ravel())"
   ]
  },
  {
   "cell_type": "code",
   "execution_count": null,
   "id": "870ab65c-56e4-4bba-8685-cab562529377",
   "metadata": {},
   "outputs": [],
   "source": [
    "# average number of ints used to calculate velocities\n",
    "temp = igram_aoi['veloc'].where(igram_ds['coherence'] > 0.5).count(dim='dates')\n",
    "np.nanmean(temp.where(temp != 0))"
   ]
  },
  {
   "cell_type": "markdown",
   "id": "c26cf93d-ac6a-4a01-91d1-24e7de5b21e1",
   "metadata": {},
   "source": [
    "## Make igram baseline figure"
   ]
  },
  {
   "cell_type": "code",
   "execution_count": null,
   "id": "6c4ac0b0-c723-44d2-8f6c-095cd119f20a",
   "metadata": {},
   "outputs": [],
   "source": [
    "def toYearFraction(date):\n",
    "    def sinceEpoch(date): # returns seconds since epoch\n",
    "        return time.mktime(date.timetuple())\n",
    "    s = sinceEpoch\n",
    "\n",
    "    year = date.year\n",
    "    startOfThisYear = datetime(year=year, month=1, day=1)\n",
    "    startOfNextYear = datetime(year=year+1, month=1, day=1)\n",
    "\n",
    "    yearElapsed = s(date) - s(startOfThisYear)\n",
    "    yearDuration = s(startOfNextYear) - s(startOfThisYear)\n",
    "    fraction = yearElapsed/yearDuration\n",
    "\n",
    "    return date.year + fraction"
   ]
  },
  {
   "cell_type": "code",
   "execution_count": null,
   "id": "9bf1847d-f105-44c6-bb7f-fe718b471a08",
   "metadata": {},
   "outputs": [],
   "source": [
    "lines = []\n",
    "for i, date in enumerate(igram_ds['dates'].values):\n",
    "    lines.append([(toYearFraction(datetime.strptime(date[0:8], '%Y%m%d')), i), (toYearFraction(datetime.strptime(date[9:17], '%Y%m%d')), i)])"
   ]
  },
  {
   "cell_type": "code",
   "execution_count": null,
   "id": "b39092be-4dbb-40b2-b11d-d905e32c812d",
   "metadata": {},
   "outputs": [],
   "source": [
    "lc = mc.LineCollection(lines, linewidths=4)\n",
    "\n",
    "plt.style.use('ggplot')\n",
    "f, ax = plt.subplots(figsize=(5, 5))\n",
    "ax.add_collection(lc)\n",
    "ax.margins(0.1)\n",
    "ax.set_ylabel('index')\n",
    "\n",
    "plt.savefig('tbline.png', dpi=300)"
   ]
  },
  {
   "cell_type": "code",
   "execution_count": null,
   "id": "321f77f9-a90c-47a9-ac5e-a9201df3528c",
   "metadata": {},
   "outputs": [],
   "source": [
    "# interferogram length capped at 40 days to avoid decorrelation\n",
    "# mean interferogram length: 21.8 days, max length: 36 days, min length: 12 days"
   ]
  }
 ],
 "metadata": {
  "kernelspec": {
   "display_name": "insar_analysis",
   "language": "python",
   "name": "conda-env-.local-insar_analysis-py"
  },
  "language_info": {
   "codemirror_mode": {
    "name": "ipython",
    "version": 3
   },
   "file_extension": ".py",
   "mimetype": "text/x-python",
   "name": "python",
   "nbconvert_exporter": "python",
   "pygments_lexer": "ipython3",
   "version": "3.8.13"
  }
 },
 "nbformat": 4,
 "nbformat_minor": 5
}
