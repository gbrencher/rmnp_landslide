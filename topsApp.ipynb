{
 "cells": [
  {
   "cell_type": "markdown",
   "id": "7ebeb130-b055-45c4-9ea3-470e2e7371b9",
   "metadata": {},
   "source": [
    "# Interferogram Processing with ISCE topsApp"
   ]
  },
  {
   "cell_type": "code",
   "execution_count": null,
   "id": "0996be6e-2ad3-4842-aca6-1e348a75c90e",
   "metadata": {},
   "outputs": [],
   "source": [
    "#Skip if environment is already created. \n",
    "#!mamba env create -f environment.yml"
   ]
  },
  {
   "cell_type": "code",
   "execution_count": 1,
   "id": "d28f5cc8-07fe-4495-a2ae-2129c2e65781",
   "metadata": {},
   "outputs": [
    {
     "name": "stdout",
     "output_type": "stream",
     "text": [
      "This is the Open Source version of ISCE.\n",
      "Some of the workflows depend on a separate licensed package.\n",
      "To obtain the licensed package, please make a request for ISCE\n",
      "through the website: https://download.jpl.nasa.gov/ops/request/index.cfm.\n",
      "Alternatively, if you are a member, or can become a member of WinSAR\n",
      "you may be able to obtain access to a version of the licensed sofware at\n",
      "https://winsar.unavco.org/software/isce\n",
      "2022-08-08 23:42:17,834 - matplotlib - DEBUG - (private) matplotlib data path: /srv/conda/envs/isce2/lib/python3.6/site-packages/matplotlib/mpl-data\n",
      "2022-08-08 23:42:17,836 - matplotlib - DEBUG - matplotlib data path: /srv/conda/envs/isce2/lib/python3.6/site-packages/matplotlib/mpl-data\n",
      "2022-08-08 23:42:17,842 - matplotlib - DEBUG - CONFIGDIR=/home/jovyan/.config/matplotlib\n",
      "2022-08-08 23:42:17,845 - matplotlib - DEBUG - matplotlib version 3.3.4\n",
      "2022-08-08 23:42:17,846 - matplotlib - DEBUG - interactive is False\n",
      "2022-08-08 23:42:17,848 - matplotlib - DEBUG - platform is linux\n",
      "2022-08-08 23:42:17,849 - matplotlib - DEBUG - loaded modules: ['builtins', 'sys', '_frozen_importlib', '_imp', '_warnings', '_thread', '_weakref', '_frozen_importlib_external', '_io', 'marshal', 'posix', 'zipimport', 'encodings', 'codecs', '_codecs', 'encodings.aliases', 'encodings.utf_8', '_signal', '__main__', 'encodings.latin_1', 'io', 'abc', '_weakrefset', '_bootlocale', '_locale', 'site', 'os', 'errno', 'stat', '_stat', 'posixpath', 'genericpath', 'os.path', '_collections_abc', '_sitebuiltins', 'sysconfig', '_sysconfigdata_m_linux_x86_64-linux-gnu', 'types', 'functools', '_functools', 'collections', 'operator', '_operator', 'keyword', 'heapq', '_heapq', 'itertools', 'reprlib', '_collections', 'weakref', 'collections.abc', 'importlib', 'importlib._bootstrap', 'importlib._bootstrap_external', 'warnings', 'importlib.util', 'importlib.abc', 'importlib.machinery', 'contextlib', 'mpl_toolkits', 'runpy', 'pkgutil', 'ipykernel', 'ipykernel._version', 'ipykernel.connect', 'json', 'json.decoder', 're', 'enum', 'sre_compile', '_sre', 'sre_parse', 'sre_constants', 'copyreg', 'json.scanner', '_json', 'json.encoder', 'subprocess', 'time', 'signal', '_posixsubprocess', 'select', 'selectors', 'math', 'threading', 'traceback', 'linecache', 'tokenize', 'token', 'IPython', 'IPython.core', 'IPython.core.getipython', 'IPython.core.release', 'IPython.core.application', 'atexit', 'copy', 'glob', 'fnmatch', 'logging', 'string', '_string', 'shutil', 'zlib', 'bz2', '_compression', '_bz2', 'lzma', '_lzma', 'pwd', 'grp', 'traitlets', 'traitlets.traitlets', 'inspect', 'ast', '_ast', 'dis', 'opcode', '_opcode', 'six', '__future__', 'struct', '_struct', 'traitlets.utils', 'traitlets.utils.getargspec', 'traitlets.utils.importstring', 'ipython_genutils', 'ipython_genutils._version', 'ipython_genutils.py3compat', 'ipython_genutils.encoding', 'locale', 'platform', 'traitlets.utils.sentinel', 'traitlets.utils.bunch', 'traitlets._version', 'traitlets.config', 'traitlets.config.application', 'decorator', 'traitlets.config.configurable', 'traitlets.config.loader', 'argparse', 'textwrap', 'gettext', 'ipython_genutils.path', 'random', 'hashlib', '_hashlib', '_blake2', '_sha3', 'bisect', '_bisect', '_random', 'ipython_genutils.text', 'ipython_genutils.importstring', 'IPython.core.crashhandler', 'pprint', 'IPython.core.ultratb', 'pydoc', 'urllib', 'urllib.parse', 'IPython.core.debugger', 'bdb', 'IPython.utils', 'IPython.utils.PyColorize', 'IPython.utils.coloransi', 'IPython.utils.ipstruct', 'IPython.utils.colorable', 'pygments', 'IPython.utils.py3compat', 'IPython.utils.encoding', 'IPython.core.excolors', 'IPython.testing', 'IPython.testing.skipdoctest', 'pdb', 'cmd', 'code', 'codeop', 'IPython.core.display_trap', 'IPython.utils.path', 'IPython.utils.process', 'IPython.utils._process_posix', 'pexpect', 'pexpect.exceptions', 'pexpect.utils', 'pexpect.expect', 'pexpect.pty_spawn', 'pty', 'tty', 'termios', 'ptyprocess', 'ptyprocess.ptyprocess', 'fcntl', 'resource', 'ptyprocess.util', 'pexpect.spawnbase', 'pexpect.run', 'IPython.utils._process_common', 'shlex', 'IPython.utils.decorators', 'IPython.utils.data', 'IPython.utils.terminal', 'IPython.utils.sysinfo', 'IPython.utils._sysinfo', 'IPython.core.profiledir', 'IPython.paths', 'tempfile', 'IPython.utils.importstring', 'IPython.terminal', 'IPython.terminal.embed', 'IPython.core.compilerop', 'IPython.core.magic_arguments', 'IPython.core.error', 'IPython.utils.text', 'pathlib', 'ntpath', 'IPython.core.magic', 'getopt', 'IPython.core.oinspect', 'typing', 'typing.io', 'typing.re', 'IPython.core.page', 'IPython.core.display', 'binascii', 'mimetypes', 'IPython.lib', 'IPython.lib.security', 'getpass', 'IPython.lib.pretty', 'datetime', '_datetime', 'IPython.utils.openpy', 'IPython.utils.dir2', 'IPython.utils.wildcard', 'pygments.lexers', 'pygments.lexers._mapping', 'pygments.modeline', 'pygments.plugin', 'pygments.util', 'pygments.lexers.python', 'pygments.lexer', 'pygments.filter', 'pygments.filters', 'pygments.token', 'pygments.regexopt', 'pygments.unistring', 'pygments.formatters', 'pygments.formatters._mapping', 'pygments.formatters.html', 'pygments.formatter', 'pygments.styles', 'IPython.core.inputtransformer2', 'IPython.core.interactiveshell', 'pickleshare', 'pickle', '_compat_pickle', '_pickle', 'IPython.core.prefilter', 'IPython.core.autocall', 'IPython.core.macro', 'IPython.core.splitinput', 'IPython.core.alias', 'IPython.core.builtin_trap', 'IPython.core.events', 'backcall', 'backcall.backcall', 'IPython.core.displayhook', 'IPython.core.displaypub', 'IPython.core.extensions', 'IPython.core.formatters', 'IPython.utils.sentinel', 'IPython.core.history', 'sqlite3', 'sqlite3.dbapi2', '_sqlite3', 'IPython.core.logger', 'IPython.core.payload', 'IPython.core.usage', 'IPython.display', 'IPython.lib.display', 'html', 'html.entities', 'IPython.utils.io', 'IPython.utils.capture', 'IPython.utils.strdispatch', 'IPython.core.hooks', 'IPython.utils.syspathcontext', 'IPython.utils.tempdir', 'IPython.utils.contexts', 'IPython.core.async_helpers', 'IPython.terminal.interactiveshell', 'asyncio', 'asyncio.base_events', 'concurrent', 'concurrent.futures', 'concurrent.futures._base', 'concurrent.futures.process', 'queue', 'multiprocessing', 'multiprocessing.context', 'multiprocessing.process', 'multiprocessing.reduction', 'socket', '_socket', 'array', '__mp_main__', 'multiprocessing.connection', '_multiprocessing', 'multiprocessing.util', 'concurrent.futures.thread', 'asyncio.compat', 'asyncio.coroutines', 'asyncio.constants', 'asyncio.events', 'asyncio.base_futures', 'asyncio.log', 'asyncio.futures', 'asyncio.base_tasks', '_asyncio', 'asyncio.tasks', 'asyncio.locks', 'asyncio.protocols', 'asyncio.queues', 'asyncio.streams', 'asyncio.subprocess', 'asyncio.transports', 'asyncio.unix_events', 'asyncio.base_subprocess', 'asyncio.selector_events', 'ssl', 'ipaddress', '_ssl', 'base64', 'asyncio.sslproto', 'prompt_toolkit', 'prompt_toolkit.application', 'prompt_toolkit.application.application', 'prompt_toolkit.buffer', 'prompt_toolkit.application.current', 'contextvars', 'immutables', 'immutables._map', 'immutables._protocols', 'typing_extensions', 'immutables._version', 'prompt_toolkit.application.run_in_terminal', 'prompt_toolkit.eventloop', 'prompt_toolkit.eventloop.async_generator', 'prompt_toolkit.eventloop.utils', 'prompt_toolkit.eventloop.inputhook', 'prompt_toolkit.eventloop.async_context_manager', 'prompt_toolkit.auto_suggest', 'prompt_toolkit.document', 'prompt_toolkit.clipboard', 'prompt_toolkit.clipboard.base', 'prompt_toolkit.selection', 'prompt_toolkit.clipboard.in_memory', 'prompt_toolkit.filters', 'prompt_toolkit.filters.app', 'prompt_toolkit.cache', 'prompt_toolkit.enums', 'prompt_toolkit.filters.base', 'prompt_toolkit.filters.cli', 'prompt_toolkit.filters.utils', 'prompt_toolkit.completion', 'prompt_toolkit.completion.base', 'prompt_toolkit.formatted_text', 'prompt_toolkit.formatted_text.ansi', 'prompt_toolkit.output', 'prompt_toolkit.output.base', 'prompt_toolkit.cursor_shapes', 'prompt_toolkit.key_binding', 'prompt_toolkit.key_binding.key_bindings', 'prompt_toolkit.keys', 'prompt_toolkit.key_binding.key_processor', 'prompt_toolkit.utils', 'wcwidth', 'wcwidth.wcwidth', 'wcwidth.table_wide', 'wcwidth.table_zero', 'wcwidth.unicode_versions', 'prompt_toolkit.key_binding.vi_state', 'prompt_toolkit.data_structures', 'prompt_toolkit.styles', 'prompt_toolkit.styles.base', 'prompt_toolkit.styles.defaults', 'prompt_toolkit.styles.named_colors', 'prompt_toolkit.styles.style', 'prompt_toolkit.styles.pygments', 'prompt_toolkit.styles.style_transformation', 'colorsys', 'prompt_toolkit.output.color_depth', 'prompt_toolkit.output.defaults', 'prompt_toolkit.output.plain_text', 'prompt_toolkit.output.flush_stdout', 'prompt_toolkit.output.vt100', 'prompt_toolkit.formatted_text.base', 'prompt_toolkit.mouse_events', 'prompt_toolkit.formatted_text.html', 'xml', 'xml.dom', 'xml.dom.domreg', 'xml.dom.minidom', 'xml.dom.minicompat', 'xml.dom.xmlbuilder', 'xml.dom.NodeFilter', 'prompt_toolkit.formatted_text.pygments', 'prompt_toolkit.formatted_text.utils', 'prompt_toolkit.completion.deduplicate', 'prompt_toolkit.completion.filesystem', 'prompt_toolkit.completion.fuzzy_completer', 'prompt_toolkit.completion.word_completer', 'prompt_toolkit.completion.nested', 'prompt_toolkit.history', 'prompt_toolkit.search', 'prompt_toolkit.validation', 'prompt_toolkit.input', 'prompt_toolkit.input.base', 'prompt_toolkit.input.defaults', 'prompt_toolkit.input.typeahead', 'prompt_toolkit.key_binding.bindings', 'prompt_toolkit.key_binding.bindings.page_navigation', 'prompt_toolkit.key_binding.bindings.scroll', 'prompt_toolkit.key_binding.defaults', 'prompt_toolkit.key_binding.bindings.basic', 'prompt_toolkit.key_binding.bindings.named_commands', 'prompt_toolkit.layout', 'prompt_toolkit.layout.containers', 'prompt_toolkit.layout.controls', 'prompt_toolkit.lexers', 'prompt_toolkit.lexers.base', 'prompt_toolkit.lexers.pygments', 'prompt_toolkit.layout.processors', 'prompt_toolkit.layout.utils', 'prompt_toolkit.layout.dimension', 'prompt_toolkit.layout.margins', 'prompt_toolkit.layout.mouse_handlers', 'prompt_toolkit.layout.screen', 'prompt_toolkit.layout.layout', 'prompt_toolkit.layout.menus', 'prompt_toolkit.layout.scrollable_pane', 'prompt_toolkit.key_binding.bindings.completion', 'prompt_toolkit.key_binding.bindings.cpr', 'prompt_toolkit.key_binding.bindings.emacs', 'prompt_toolkit.key_binding.bindings.mouse', 'prompt_toolkit.key_binding.bindings.vi', 'prompt_toolkit.input.vt100_parser', 'prompt_toolkit.input.ansi_escape_sequences', 'prompt_toolkit.key_binding.digraphs', 'prompt_toolkit.key_binding.emacs_state', 'prompt_toolkit.layout.dummy', 'prompt_toolkit.renderer', 'prompt_toolkit.application.dummy', 'prompt_toolkit.shortcuts', 'prompt_toolkit.shortcuts.dialogs', 'prompt_toolkit.key_binding.bindings.focus', 'prompt_toolkit.widgets', 'prompt_toolkit.widgets.base', 'prompt_toolkit.widgets.toolbars', 'prompt_toolkit.widgets.dialogs', 'prompt_toolkit.widgets.menus', 'prompt_toolkit.shortcuts.progress_bar', 'prompt_toolkit.shortcuts.progress_bar.base', 'prompt_toolkit.shortcuts.progress_bar.formatters', 'prompt_toolkit.shortcuts.prompt', 'prompt_toolkit.key_binding.bindings.auto_suggest', 'prompt_toolkit.key_binding.bindings.open_in_editor', 'prompt_toolkit.shortcuts.utils', 'prompt_toolkit.patch_stdout', 'pygments.style', 'IPython.terminal.debugger', 'IPython.core.completer', 'unicodedata', 'IPython.core.latex_symbols', 'IPython.utils.generics', 'jedi', 'jedi.api', 'parso', 'parso.parser', 'parso.tree', 'parso._compatibility', 'parso.utils', 'parso.pgen2', 'parso.pgen2.generator', 'parso.pgen2.grammar_parser', 'parso.python', 'parso.python.tokenize', 'parso.python.token', 'parso.grammar', 'parso.python.diff', 'difflib', 'parso.python.parser', 'parso.python.tree', 'parso.python.prefix', 'parso.cache', 'gc', 'parso.file_io', 'parso.python.errors', 'parso.normalizer', 'parso.python.pep8', 'jedi._compatibility', 'jedi.file_io', 'jedi.parser_utils', 'jedi.debug', 'colorama', 'colorama.initialise', 'colorama.ansitowin32', 'colorama.ansi', 'colorama.winterm', 'colorama.win32', 'ctypes', '_ctypes', 'ctypes._endian', 'jedi.settings', 'jedi.cache', 'jedi.api.classes', 'jedi.inference', 'jedi.inference.imports', 'jedi.inference.sys_path', 'jedi.inference.cache', 'jedi.inference.base_value', 'jedi.inference.helpers', 'jedi.inference.utils', 'jedi.common', 'jedi.inference.compiled', 'jedi.inference.compiled.value', 'jedi.inference.filters', 'jedi.inference.flow_analysis', 'jedi.inference.recursion', 'jedi.inference.names', 'jedi.inference.docstrings', 'jedi.inference.lazy_value', 'jedi.plugins', 'jedi.inference.compiled.access', 'jedi.inference.compiled.getattr_static', 'jedi.inference.signature', 'jedi.inference.context', 'jedi.inference.analysis', 'jedi.inference.gradual', 'jedi.inference.gradual.typeshed', 'jedi.inference.gradual.stub_value', 'jedi.inference.value', 'jedi.inference.value.module', 'jedi.inference.value.klass', 'jedi.inference.arguments', 'jedi.inference.value.iterable', 'jedi.inference.value.dynamic_arrays', 'jedi.inference.value.function', 'jedi.inference.parser_cache', 'jedi.inference.gradual.generics', 'jedi.inference.value.instance', 'jedi.inference.gradual.typing', 'jedi.inference.gradual.base', 'jedi.inference.gradual.type_var', 'jedi.inference.syntax_tree', 'jedi.inference.gradual.annotation', 'jedi.inference.param', 'jedi.inference.value.decorator', 'jedi.inference.compiled.mixed', 'jedi.inference.gradual.conversion', 'jedi.api.keywords', 'pydoc_data', 'pydoc_data.topics', 'jedi.api.completion_cache', 'jedi.api.helpers', 'jedi.api.interpreter', 'jedi.api.completion', 'jedi.api.strings', 'jedi.api.file_name', 'jedi.api.environment', 'filecmp', 'jedi.inference.compiled.subprocess', 'jedi.inference.compiled.subprocess.functions', 'jedi.api.exceptions', 'jedi.api.project', 'jedi.inference.references', 'jedi.api.errors', 'jedi.api.refactoring', 'jedi.api.refactoring.extract', 'jedi.inference.gradual.utils', 'jedi.plugins.registry', 'jedi.plugins.stdlib', 'jedi.plugins.flask', 'jedi.plugins.pytest', 'jedi.plugins.django', 'IPython.terminal.ptutils', 'IPython.terminal.shortcuts', 'IPython.terminal.magics', 'IPython.lib.clipboard', 'IPython.terminal.pt_inputhooks', 'IPython.terminal.prompts', 'IPython.terminal.ipapp', 'IPython.core.magics', 'IPython.core.magics.auto', 'IPython.core.magics.basic', 'IPython.core.magics.code', 'urllib.request', 'email', 'http', 'http.client', 'email.parser', 'email.feedparser', 'email.errors', 'email._policybase', 'email.header', 'email.quoprimime', 'email.base64mime', 'email.charset', 'email.encoders', 'quopri', 'email.utils', 'email._parseaddr', 'calendar', 'email.message', 'uu', 'email._encoded_words', 'email.iterators', 'urllib.error', 'urllib.response', 'IPython.core.magics.config', 'IPython.core.magics.display', 'IPython.core.magics.execution', 'timeit', 'cProfile', '_lsprof', 'profile', 'optparse', 'pstats', 'IPython.utils.module_paths', 'IPython.utils.timing', 'IPython.core.magics.extension', 'IPython.core.magics.history', 'IPython.core.magics.logging', 'IPython.core.magics.namespace', 'IPython.core.magics.osm', 'IPython.core.magics.packaging', 'IPython.core.magics.pylab', 'IPython.core.pylabtools', 'IPython.core.magics.script', 'IPython.lib.backgroundjobs', 'IPython.core.shellapp', 'IPython.extensions', 'IPython.extensions.storemagic', 'IPython.utils.frame', 'jupyter_client', 'jupyter_client._version', 'jupyter_client.asynchronous', 'jupyter_client.asynchronous.client', 'jupyter_client.channels', 'zmq', 'zmq.backend', 'zmq.backend.select', 'zmq.backend.cython', 'zmq.backend.cython.constants', 'cython_runtime', 'zmq.backend.cython.error', '_cython_0_29_24', 'zmq.backend.cython.message', 'zmq.error', 'zmq.backend.cython.context', 'zmq.backend.cython.socket', 'zmq.backend.cython.utils', 'zmq.backend.cython._poll', 'zmq.backend.cython._version', 'zmq.backend.cython._device', 'zmq.backend.cython._proxy_steerable', 'zmq.sugar', 'zmq.sugar.constants', 'zmq.utils', 'zmq.utils.constant_names', 'zmq.sugar.context', 'zmq.sugar.attrsettr', 'zmq.sugar.socket', 'zmq.sugar.poll', 'zmq.utils.jsonapi', 'zmq.utils.strtypes', 'zmq.sugar.frame', 'zmq.sugar.tracker', 'zmq.sugar.version', 'zmq.sugar.stopwatch', 'zmq.asyncio', 'zmq._future', 'jupyter_client.channelsabc', 'jupyter_client.session', 'hmac', 'traitlets.log', 'zmq.eventloop', 'zmq.eventloop.ioloop', 'tornado', 'tornado.log', 'logging.handlers', 'tornado.escape', 'tornado.util', 'tornado.speedups', 'curses', '_curses', 'tornado.ioloop', 'numbers', 'tornado.concurrent', 'tornado.platform', 'tornado.platform.asyncio', 'tornado.gen', 'zmq.eventloop.zmqstream', 'jupyter_client.adapter', 'jupyter_client.jsonutil', 'dateutil', 'dateutil._version', 'dateutil.parser', 'dateutil.parser._parser', 'decimal', '_decimal', 'dateutil.relativedelta', 'dateutil._common', 'dateutil.tz', 'dateutil.tz.tz', 'six.moves', 'dateutil.tz._common', 'dateutil.tz._factories', 'dateutil.parser.isoparser', '_strptime', 'jupyter_client.client', 'jupyter_client.clientabc', 'jupyter_client.connect', 'jupyter_core', 'jupyter_core.version', 'jupyter_core.paths', 'jupyter_client.localinterfaces', 'jupyter_client.utils', 'jupyter_client.blocking', 'jupyter_client.blocking.client', 'jupyter_client.launcher', 'jupyter_client.manager', 'uuid', 'ctypes.util', 'jupyter_client.managerabc', 'jupyter_client.provisioning', 'jupyter_client.provisioning.factory', 'entrypoints', 'zipfile', 'configparser', 'jupyter_client.provisioning.provisioner_base', 'jupyter_client.provisioning.local_provisioner', 'jupyter_client.kernelspec', 'jupyter_client.multikernelmanager', 'ipykernel.kernelapp', 'ipykernel.iostream', 'imp', 'ipykernel.heartbeat', 'ipykernel.ipkernel', 'IPython.utils.tokenutil', 'ipykernel.comm', 'ipykernel.comm.manager', 'ipykernel.comm.comm', 'ipykernel.kernelbase', 'tornado.queues', 'tornado.locks', 'ipykernel.jsonutil', 'ipykernel.zmqshell', 'IPython.core.payloadpage', 'ipykernel.displayhook', 'ipykernel.datapub', 'ipykernel.serialize', 'ipykernel.pickleutil', 'ipykernel.codeutil', 'ipykernel.eventloops', 'distutils', 'distutils.version', 'ipykernel.parentpoller', 'encodings.idna', 'stringprep', 'faulthandler', 'IPython.core.completerlib', 'storemagic', 'asf_search', 'importlib_metadata', 'csv', '_csv', 'zipp', 'importlib_metadata._adapters', 'importlib_metadata._text', 'importlib_metadata._functools', 'importlib_metadata._meta', 'importlib_metadata._compat', 'importlib_metadata._collections', 'importlib_metadata._itertools', 'asf_search.ASFSession', 'requests', 'urllib3', 'urllib3.exceptions', 'urllib3.packages', 'urllib3.packages.six', 'urllib3.packages.six.moves', 'urllib3.packages.six.moves.http_client', 'urllib3._version', 'urllib3.connectionpool', 'urllib3.connection', 'urllib3.util', 'urllib3.util.connection', 'urllib3.contrib', 'urllib3.contrib._appengine_environ', 'urllib3.util.wait', 'urllib3.util.request', 'brotli', 'brotli.brotli', '_cffi_backend', '_brotli.lib', '_brotli', 'brotli._brotli', 'urllib3.util.response', 'urllib3.util.retry', 'urllib3.util.ssl_', 'urllib3.util.url', 'urllib3.util.ssltransport', 'urllib3.util.timeout', 'urllib3.util.proxy', 'urllib3._collections', 'urllib3.util.ssl_match_hostname', 'urllib3.request', 'urllib3.filepost', 'urllib3.fields', 'urllib3.packages.six.moves.urllib', 'urllib3.packages.six.moves.urllib.parse', 'urllib3.response', 'urllib3.util.queue', 'urllib3.poolmanager', 'requests.exceptions', 'requests.compat', 'charset_normalizer', 'charset_normalizer.api', 'charset_normalizer.cd', 'charset_normalizer.assets', 'charset_normalizer.constant', 'charset_normalizer.md', 'charset_normalizer.utils', '_multibytecodec', 'charset_normalizer.models', 'charset_normalizer.legacy', 'charset_normalizer.version', 'http.cookiejar', 'http.cookies', 'requests.packages', 'requests.packages.urllib3', 'requests.packages.urllib3.exceptions', 'requests.packages.urllib3.packages', 'requests.packages.urllib3.packages.six', 'requests.packages.urllib3.packages.six.moves', 'requests.packages.urllib3.packages.six.moves.http_client', 'requests.packages.urllib3._version', 'requests.packages.urllib3.connectionpool', 'requests.packages.urllib3.connection', 'requests.packages.urllib3.util', 'requests.packages.urllib3.util.connection', 'requests.packages.urllib3.contrib', 'requests.packages.urllib3.contrib._appengine_environ', 'requests.packages.urllib3.util.wait', 'requests.packages.urllib3.util.request', 'requests.packages.urllib3.util.response', 'requests.packages.urllib3.util.retry', 'requests.packages.urllib3.util.ssl_', 'requests.packages.urllib3.util.url', 'requests.packages.urllib3.util.ssltransport', 'requests.packages.urllib3.util.timeout', 'requests.packages.urllib3.util.proxy', 'requests.packages.urllib3._collections', 'requests.packages.urllib3.util.ssl_match_hostname', 'requests.packages.urllib3.request', 'requests.packages.urllib3.filepost', 'requests.packages.urllib3.fields', 'requests.packages.urllib3.packages.six.moves.urllib', 'requests.packages.urllib3.packages.six.moves.urllib.parse', 'requests.packages.urllib3.response', 'requests.packages.urllib3.util.queue', 'requests.packages.urllib3.poolmanager', 'idna', 'idna.package_data', 'idna.core', 'idna.idnadata', 'idna.intranges', 'requests.packages.idna', 'requests.packages.idna.package_data', 'requests.packages.idna.core', 'requests.packages.idna.idnadata', 'requests.packages.idna.intranges', 'requests.packages.chardet', 'requests.utils', 'requests.certs', 'certifi', 'certifi.core', 'requests.__version__', 'requests._internal_utils', 'requests.cookies', 'requests.structures', 'requests.api', 'requests.sessions', 'requests.adapters', 'requests.auth', 'requests.models', 'requests.hooks', 'requests.status_codes', 'urllib3.contrib.socks', 'socks', 'asf_search.constants', 'asf_search.constants.BEAMMODE', 'asf_search.constants.FLIGHT_DIRECTION', 'asf_search.constants.INSTRUMENT', 'asf_search.constants.PLATFORM', 'asf_search.constants.POLARIZATION', 'asf_search.constants.PRODUCT_TYPE', 'asf_search.constants.INTERNAL', 'asf_search.exceptions', 'asf_search.ASFProduct', 'shapely', 'shapely.geometry', 'shapely.geometry.base', 'shapely.affinity', 'shapely.coords', 'shapely.geos', 'shapely.ctypes_declarations', 'shapely.errors', 'shapely.topology', 'shapely.impl', 'shapely.algorithms', 'shapely.algorithms.cga', 'shapely.linref', 'shapely.predicates', 'numpy', 'numpy._globals', 'numpy.__config__', 'numpy.version', 'numpy._distributor_init', 'numpy.core', 'numpy.core.multiarray', 'numpy.core.overrides', 'numpy.core._multiarray_umath', 'numpy.compat', 'numpy.compat._inspect', 'numpy.compat.py3k', 'numpy.core.umath', 'numpy.core.numerictypes', 'numpy.core._string_helpers', 'numpy.core._type_aliases', 'numpy.core._dtype', 'numpy.core.numeric', 'numpy.core.shape_base', 'numpy.core._asarray', 'numpy.core.fromnumeric', 'numpy.core._methods', 'numpy.core._exceptions', 'numpy.core._ufunc_config', 'numpy.core.arrayprint', 'numpy.core.defchararray', 'numpy.core.records', 'numpy.core.memmap', 'numpy.core.function_base', 'numpy.core.machar', 'numpy.core.getlimits', 'numpy.core.einsumfunc', 'numpy.core._add_newdocs', 'numpy.core._multiarray_tests', 'numpy.core._dtype_ctypes', 'numpy.core._internal', 'numpy._pytesttester', 'numpy.lib', 'numpy.lib.mixins', 'numpy.lib.scimath', 'numpy.lib.type_check', 'numpy.lib.ufunclike', 'numpy.lib.index_tricks', 'numpy.matrixlib', 'numpy.matrixlib.defmatrix', 'numpy.linalg', 'numpy.linalg.linalg', 'numpy.lib.twodim_base', 'numpy.linalg.lapack_lite', 'numpy.linalg._umath_linalg', 'numpy.lib.function_base', 'numpy.lib.histograms', 'numpy.lib.stride_tricks', 'numpy.lib.nanfunctions', 'numpy.lib.shape_base', 'numpy.lib.polynomial', 'numpy.lib.utils', 'numpy.lib.arraysetops', 'numpy.lib.npyio', 'numpy.lib.format', 'numpy.lib._datasource', 'numpy.lib._iotools', 'numpy.lib.financial', 'numpy.lib.arrayterator', 'numpy.lib.arraypad', 'numpy.lib._version', 'numpy.fft', 'numpy.fft._pocketfft', 'numpy.fft._pocketfft_internal', 'numpy.fft.helper', 'numpy.polynomial', 'numpy.polynomial.polynomial', 'numpy.polynomial.polyutils', 'numpy.polynomial._polybase', 'numpy.polynomial.chebyshev', 'numpy.polynomial.legendre', 'numpy.polynomial.hermite', 'numpy.polynomial.hermite_e', 'numpy.polynomial.laguerre', 'numpy.random', 'numpy.random._pickle', 'numpy.random.mtrand', 'numpy.random.bit_generator', 'numpy.random._common', 'secrets', 'numpy.random._bounded_integers', 'numpy.random._mt19937', 'numpy.random._philox', 'numpy.random._pcg64', 'numpy.random._sfc64', 'numpy.random._generator', 'numpy.ctypeslib', 'numpy.ma', 'numpy.ma.core', 'numpy.ma.extras', 'numpy.testing', 'unittest', 'unittest.result', 'unittest.util', 'unittest.case', 'unittest.suite', 'unittest.loader', 'unittest.main', 'unittest.runner', 'unittest.signals', 'numpy.testing._private', 'numpy.testing._private.utils', 'numpy.testing._private.decorators', 'numpy.testing._private.nosetester', 'shapely.geometry.geo', 'shapely.geometry.point', 'shapely.geometry.proxy', 'shapely.geometry.linestring', 'shapely.geometry.polygon', 'shapely.geometry.multipoint', 'shapely.geometry.multilinestring', 'shapely.geometry.multipolygon', 'shapely.geometry.collection', 'shapely.speedups', 'shapely.speedups._speedups', 'asf_search.download', 'asf_search.download.download', 'asf_search.ASFSearchResults', 'asf_search.health', 'asf_search.health.health', 'asf_search.search', 'asf_search.search.search', 'asf_search.search.granule_search', 'asf_search.search.product_search', 'asf_search.search.geo_search', 'asf_search.search.baseline_search', 'asf_search.baseline', 'asf_search.baseline.calc', 'asf_search.baseline.stack', 'pytz', 'pytz.exceptions', 'pytz.lazy', 'pytz.tzinfo', 'pytz.tzfile', 'asf_search.search.campaigns', 'asf_search.CMR', 'asf_search.CMR.MissionList', 'isce', 'isce.release_history', 'logging.config', 'socketserver', 'matplotlib', 'matplotlib.cbook', 'gzip', 'matplotlib.cbook.deprecation', 'matplotlib.rcsetup', 'matplotlib.animation', 'matplotlib._animation_data', 'matplotlib.fontconfig_pattern', 'pyparsing', 'pyparsing.util', 'pyparsing.exceptions', 'pyparsing.unicode', 'pyparsing.actions', 'pyparsing.core', 'pyparsing.results', 'pyparsing.helpers', 'pyparsing.testing', 'pyparsing.common', 'matplotlib.colors', 'matplotlib.docstring', 'matplotlib._color_data', 'cycler', 'matplotlib._version', 'matplotlib.ft2font', 'kiwisolver']\n",
      "2022-08-08 23:42:17,892 - matplotlib - DEBUG - CACHEDIR=/home/jovyan/.cache/matplotlib\n",
      "2022-08-08 23:42:17,894 - matplotlib.font_manager - DEBUG - Using fontManager instance from /home/jovyan/.cache/matplotlib/fontlist-v330.json\n",
      "2022-08-08 23:42:18,008 - matplotlib.pyplot - DEBUG - Loaded backend module://ipykernel.pylab.backend_inline version unknown.\n",
      "2022-08-08 23:42:18,013 - matplotlib.pyplot - DEBUG - Loaded backend module://ipykernel.pylab.backend_inline version unknown.\n",
      "2022-08-08 23:42:18,091 - rasterio.session - DEBUG - Could not import boto3, continuing with reduced functionality.\n"
     ]
    }
   ],
   "source": [
    "# Import required packages\n",
    "import logging\n",
    "log = logging.getLogger()\n",
    "log.setLevel(logging.WARN)\n",
    "import os\n",
    "import getpass\n",
    "import asf_search as asf\n",
    "import isce\n",
    "from os import listdir\n",
    "import numpy as np\n",
    "import matplotlib.pyplot as plt\n",
    "import rasterio as rio\n",
    "import rasterio.plot\n",
    "from rasterio import logging\n",
    "from osgeo import gdal"
   ]
  },
  {
   "cell_type": "code",
   "execution_count": 18,
   "id": "8c597a69-7826-49dc-bd5d-3ad51b1b2c36",
   "metadata": {},
   "outputs": [],
   "source": [
    "os.chdir('/home/jovyan/rmnp_landslide')"
   ]
  },
  {
   "cell_type": "code",
   "execution_count": 19,
   "id": "5999c18a-f543-4ce1-bb76-f3ff30caac85",
   "metadata": {},
   "outputs": [
    {
     "name": "stdout",
     "output_type": "stream",
     "text": [
      "/srv/conda/envs/isce2/bin:/srv/conda/condabin:/srv/conda/bin:/usr/local/sbin:/usr/local/bin:/usr/sbin:/usr/bin:/sbin:/bin/srv/conda/envs/isce2/lib/python3.6/site-packages/isce/bin:/srv/conda/envs/isce2/lib/python3.6/site-packages/isce/applications/srv/conda/envs/isce2/lib/python3.6/site-packages/isce/bin:/srv/conda/envs/isce2/lib/python3.6/site-packages/isce/applications:~/isce2/contrib/stack/topsStack/srv/conda/envs/isce2/lib/python3.6/site-packages/isce/bin:/srv/conda/envs/isce2/lib/python3.6/site-packages/isce/applications:/tmp/orbital/tools/isce2/contrib/stack/topsStack/srv/conda/envs/isce2/lib/python3.6/site-packages/isce/bin:/srv/conda/envs/isce2/lib/python3.6/site-packages/isce/applications:/home/jovyan/rmnp_landslide/tools/isce2/contrib/stack/topsStack\n"
     ]
    }
   ],
   "source": [
    "# Set environment variables so that you can call ISCE from the command line\n",
    "os.environ['ISCE_HOME'] = os.path.dirname(isce.__file__)\n",
    "os.environ['ISCE_ROOT'] = os.path.dirname(os.environ['ISCE_HOME'])\n",
    "os.environ['PATH']+='{ISCE_HOME}/bin:{ISCE_HOME}/applications'.format(**os.environ)\n",
    "\n",
    "# Set path to topsStack workflow in ISCE source directory\n",
    "CWD = os.getcwd()\n",
    "os.environ['PATH']+=f':{CWD}/tools/isce2/contrib/stack/topsStack'\n",
    "print(os.environ['PATH'])"
   ]
  },
  {
   "cell_type": "code",
   "execution_count": 20,
   "id": "d86f6789-abc2-4e15-b562-7e207540356b",
   "metadata": {},
   "outputs": [
    {
     "name": "stdout",
     "output_type": "stream",
     "text": [
      "/srv/conda/envs/isce2/lib/python3.6/site-packages/isce/applications/topsApp.py\n"
     ]
    }
   ],
   "source": [
    "!which topsApp.py"
   ]
  },
  {
   "cell_type": "code",
   "execution_count": 4,
   "id": "4060e60d-7795-47b3-98ce-381390c85542",
   "metadata": {},
   "outputs": [
    {
     "data": {
      "text/plain": [
       "['orbital', 'DEM', 'AUX', 'SLC', 'tmpmbm3kp2r']"
      ]
     },
     "execution_count": 4,
     "metadata": {},
     "output_type": "execute_result"
    }
   ],
   "source": [
    "# make required directories\n",
    "dirs = ['/tmp/orbital', '/tmp/SLC', '/tmp/DEM', '/tmp/AUX']\n",
    "for i in dirs:\n",
    "    if not os.path.exists(i):\n",
    "        os.makedirs(i)\n",
    "\n",
    "listdir('/tmp')"
   ]
  },
  {
   "cell_type": "code",
   "execution_count": 5,
   "id": "246ec18d-3435-4681-9804-05ce4d95807d",
   "metadata": {},
   "outputs": [
    {
     "name": "stdin",
     "output_type": "stream",
     "text": [
      " ········\n"
     ]
    }
   ],
   "source": [
    "EARTHDATA_LOGIN = \"qbrencherUW\"\n",
    "EARTHDATA_PASSWORD = getpass.getpass()"
   ]
  },
  {
   "cell_type": "markdown",
   "id": "2e05fd89-b225-4e64-9454-82dbad158776",
   "metadata": {},
   "source": [
    "## Download SLCs"
   ]
  },
  {
   "cell_type": "code",
   "execution_count": 27,
   "id": "20aa6ff2-b63f-4b3c-a458-074b1013c250",
   "metadata": {},
   "outputs": [
    {
     "name": "stdout",
     "output_type": "stream",
     "text": [
      "CPU times: user 238 µs, sys: 146 µs, total: 384 µs\n",
      "Wall time: 320 µs\n"
     ]
    }
   ],
   "source": [
    "%%time\n",
    "\n",
    "import asf_search\n",
    "\n",
    "# Change to SLC directory \n",
    "os.chdir('/tmp/SLC')\n",
    "\n",
    "logging.getLogger(\"urllib3\").setLevel(logging.WARNING)\n",
    "\n",
    "reference = 'S1B_IW_SLC__1SDV_20210611T010212_20210611T010239_027302_0342C7_3396'\n",
    "secondary = 'S1B_IW_SLC__1SDV_20210623T010213_20210623T010240_027477_0347EE_D669'\n",
    "granules = [reference, secondary]\n",
    "\n",
    "#results = asf_search.granule_search(granules)\n",
    "#session = asf_search.ASFSession().auth_with_creds(EARTHDATA_LOGIN, EARTHDATA_PASSWORD)\n",
    "#results.download(path='/tmp/SLC', processes=2, session=session)"
   ]
  },
  {
   "cell_type": "code",
   "execution_count": 24,
   "id": "c5876980-2230-47d5-9e43-3b4795a19f83",
   "metadata": {},
   "outputs": [
    {
     "name": "stdout",
     "output_type": "stream",
     "text": [
      "['S1B_IW_SLC__1SDV_20210611T010212_20210611T010239_027302_0342C7_3396', 'S1B_IW_SLC__1SDV_20210623T010213_20210623T010240_027477_0347EE_D669']\n"
     ]
    }
   ],
   "source": [
    "# Create a list of zipped SLCs. Assume there are no other files with .zip extension in SLC directory\n",
    "tmp = listdir('/tmp/SLC')\n",
    "\n",
    "scenes = []\n",
    "for file in tmp:\n",
    "    if file[-4:]=='.zip':\n",
    "        scenes.append(file[:-4])\n",
    "        \n",
    "print(scenes)"
   ]
  },
  {
   "cell_type": "markdown",
   "id": "bf8418d5-1c62-45fc-a043-72dc81b3ee57",
   "metadata": {},
   "source": [
    "## Get orbital files"
   ]
  },
  {
   "cell_type": "code",
   "execution_count": 21,
   "id": "853104a2-8be7-470d-9ae8-0efd063d28a5",
   "metadata": {},
   "outputs": [],
   "source": [
    "os.chdir('/tmp/orbital')"
   ]
  },
  {
   "cell_type": "code",
   "execution_count": 22,
   "id": "7cd1a19b-51ea-4685-9a2b-4fae4b3eb3ed",
   "metadata": {},
   "outputs": [
    {
     "name": "stdout",
     "output_type": "stream",
     "text": [
      "/home/jovyan/rmnp_landslide/tools/isce2/contrib/stack/topsStack/fetchOrbit.py\n"
     ]
    }
   ],
   "source": [
    "!which fetchOrbit.py"
   ]
  },
  {
   "cell_type": "code",
   "execution_count": null,
   "id": "482a97f5-856f-4c29-9138-4d72ac5573e6",
   "metadata": {},
   "outputs": [],
   "source": [
    "# grab orbital files with fetchOrbit.py\n",
    "for file in scenes:\n",
    "    os.system(f'fetchOrbit.py -i {file}')"
   ]
  },
  {
   "cell_type": "markdown",
   "id": "1b7a63a2-a2e3-4a5f-80b6-34b384bc7905",
   "metadata": {},
   "source": [
    "## Check DEM\n",
    "If using your own DEM, place it in the 'DEM' directory. Must be in WGS 84. Name your DEM 'demLat.......wgs84\n",
    "If you don't provide a DEM, dem.py can be used to automatically download SRTM. "
   ]
  },
  {
   "cell_type": "markdown",
   "id": "87a2aaa3-583f-4616-824a-6f76f1c33194",
   "metadata": {},
   "source": [
    "## Write input file"
   ]
  },
  {
   "cell_type": "code",
   "execution_count": 43,
   "id": "080d91d9-93bc-4a5c-b828-2b17adb37250",
   "metadata": {},
   "outputs": [],
   "source": [
    "os.chdir('/tmp')"
   ]
  },
  {
   "cell_type": "code",
   "execution_count": 66,
   "id": "57348913-cc16-4f81-9ead-fd86ae9d224a",
   "metadata": {},
   "outputs": [],
   "source": [
    "with open('topsApp.xml', 'w') as f:\n",
    "    f.write(f\"\"\"<?xml version=\"1.0\" encoding=\"UTF-8\"?>\n",
    "<topsApp>\n",
    "  <component name=\"topsinsar\">\n",
    "    <property name=\"Sensor name\">SENTINEL1</property>\n",
    "    <component name=\"reference\">\n",
    "        <property name=\"orbit directory\">/tmp/orbital</property>\n",
    "        <property name=\"output directory\">reference</property>\n",
    "        <property name=\"safe\">/tmp/SLC/{reference}.zip</property>\n",
    "    </component>\n",
    "    <component name=\"secondary\">\n",
    "        <property name=\"orbit directory\">/tmp/orbital</property>\n",
    "        <property name=\"output directory\">secondary</property>\n",
    "        <property name=\"safe\">/tmp/SLC/{secondary}.zip</property>\n",
    "    </component>\n",
    "    <property name=\"demfilename\">/tmp/DEM/demLat_3dep_1m.dem.wgs84</property>\n",
    "    <property name=\"useGPU\">False</property>\n",
    "    <property name=\"swaths\">[1]</property>\n",
    "    <property name=\"range looks\">3</property>\n",
    "    <property name=\"azimuth looks\">1</property>\n",
    "    <property name=\"region of interest\">[40.23, 40.50, -105.69, -105.67]</property>\n",
    "    <property name=\"do esd\">False</property>\n",
    "    <property name=\"do ionospherecorrection\">False</property>\n",
    "    <property name=\"do unwrap\">True</property>\n",
    "    <property name=\"unwrapper name\">snaphu_mcf</property>\n",
    "    <property name=\"do denseoffsets\">False</property>\n",
    "    <property name=\"geocode demfilename\">path_to_your_dem</property>\n",
    "    <!--<property name=\"geocode list\">['merged/phsig.cor', 'merged/filt_topophase.unw', 'merged/los.rdr', 'merged/topophase.flat', 'merged/filt_topophase.flat','merged/topophase.cor','merged/filt_topophase.unw.conncomp']</property> -->\n",
    "  </component>\n",
    "</topsApp>\"\"\")"
   ]
  },
  {
   "cell_type": "markdown",
   "id": "6a13d46c-f042-4ba3-94c5-ab18f527dad4",
   "metadata": {},
   "source": [
    "## topsApp processing"
   ]
  },
  {
   "cell_type": "code",
   "execution_count": 67,
   "id": "3772c46e-033a-4363-80ac-6a1cbde2ad71",
   "metadata": {},
   "outputs": [
    {
     "name": "stdout",
     "output_type": "stream",
     "text": [
      "This is the Open Source version of ISCE.\n",
      "Some of the workflows depend on a separate licensed package.\n",
      "To obtain the licensed package, please make a request for ISCE\n",
      "through the website: https://download.jpl.nasa.gov/ops/request/index.cfm.\n",
      "Alternatively, if you are a member, or can become a member of WinSAR\n",
      "you may be able to obtain access to a version of the licensed sofware at\n",
      "https://winsar.unavco.org/software/isce\n",
      "2022-08-09 00:30:07,528 - isce.insar - INFO - ISCE VERSION = 2.5.1, RELEASE_SVN_REVISION = ,RELEASE_DATE = 20210305, CURRENT_SVN_REVISION = \n",
      "ISCE VERSION = 2.5.1, RELEASE_SVN_REVISION = ,RELEASE_DATE = 20210305, CURRENT_SVN_REVISION = \n",
      "Step processing\n",
      "Cannot open PICKLE/startup\n",
      "Running step preprocess\n",
      "Input XML files:  ['/vsizip//tmp/SLC/S1B_IW_SLC__1SDV_20210611T010212_20210611T010239_027302_0342C7_3396.zip/S1B_IW_SLC__1SDV_20210611T010212_20210611T010239_027302_0342C7_3396.SAFE/annotation/s1b-iw1-slc-vv-20210611t010213-20210611t010238-027302-0342c7-004.xml']\n",
      "Input TIFF files:  ['/vsizip//tmp/SLC/S1B_IW_SLC__1SDV_20210611T010212_20210611T010239_027302_0342C7_3396.zip/S1B_IW_SLC__1SDV_20210611T010212_20210611T010239_027302_0342C7_3396.SAFE/measurement/s1b-iw1-slc-vv-20210611t010213-20210611t010238-027302-0342c7-004.tiff']\n",
      "Manifest files:  ['/vsizip//tmp/SLC/S1B_IW_SLC__1SDV_20210611T010212_20210611T010239_027302_0342C7_3396.zip/S1B_IW_SLC__1SDV_20210611T010212_20210611T010239_027302_0342C7_3396.SAFE/manifest.safe']\n",
      "MANS:  /tmp/SLC/S1B_IW_SLC__1SDV_20210611T010212_20210611T010239_027302_0342C7_3396.zip S1B_IW_SLC__1SDV_20210611T010212_20210611T010239_027302_0342C7_3396.SAFE/manifest.safe\n",
      "Setting IPF version to :  003.31\n",
      "Extracting orbit from Orbit File:  /tmp/orbital/S1B_OPER_AUX_POEORB_OPOD_20210701T111921_V20210610T225942_20210612T005942.EOF\n",
      "Number of Bursts before cropping:  9\n",
      "Number of Bursts after cropping:  0\n",
      "Could not extract swath 1 from ['/tmp/SLC/S1B_IW_SLC__1SDV_20210611T010212_20210611T010239_027302_0342C7_3396.zip']\n",
      "Generated error:  NODATA: No bursts to extract\n",
      "Input XML files:  ['/vsizip//tmp/SLC/S1B_IW_SLC__1SDV_20210623T010213_20210623T010240_027477_0347EE_D669.zip/S1B_IW_SLC__1SDV_20210623T010213_20210623T010240_027477_0347EE_D669.SAFE/annotation/s1b-iw1-slc-vv-20210623t010213-20210623t010239-027477-0347ee-004.xml']\n",
      "Input TIFF files:  ['/vsizip//tmp/SLC/S1B_IW_SLC__1SDV_20210623T010213_20210623T010240_027477_0347EE_D669.zip/S1B_IW_SLC__1SDV_20210623T010213_20210623T010240_027477_0347EE_D669.SAFE/measurement/s1b-iw1-slc-vv-20210623t010213-20210623t010239-027477-0347ee-004.tiff']\n",
      "Manifest files:  ['/vsizip//tmp/SLC/S1B_IW_SLC__1SDV_20210623T010213_20210623T010240_027477_0347EE_D669.zip/S1B_IW_SLC__1SDV_20210623T010213_20210623T010240_027477_0347EE_D669.SAFE/manifest.safe']\n",
      "MANS:  /tmp/SLC/S1B_IW_SLC__1SDV_20210623T010213_20210623T010240_027477_0347EE_D669.zip S1B_IW_SLC__1SDV_20210623T010213_20210623T010240_027477_0347EE_D669.SAFE/manifest.safe\n",
      "Setting IPF version to :  003.31\n",
      "Extracting orbit from Orbit File:  /tmp/orbital/S1B_OPER_AUX_POEORB_OPOD_20210713T111841_V20210622T225942_20210624T005942.EOF\n",
      "Number of Bursts before cropping:  9\n",
      "Number of Bursts after cropping:  0\n",
      "Could not extract swath 1 from ['/tmp/SLC/S1B_IW_SLC__1SDV_20210623T010213_20210623T010240_027477_0347EE_D669.zip']\n",
      "Generated error:  NODATA: No bursts to extract\n",
      "2022-08-09 00:30:10,316 - isce.topsinsar.runPreprocessor - INFO - \n",
      "####################################################################################################\n",
      "    runPreprocessor\n",
      "----------------------------------------------------------------------------------------------------\n",
      "common.Input list of swaths to process:  = [1]\n",
      "####################################################################################################\n",
      "Dumping the application's pickle object _insar to file  PICKLE/preprocess\n",
      "The remaining steps are (in order):  ['computeBaselines', 'verifyDEM', 'topo', 'subsetoverlaps', 'coarseoffsets', 'coarseresamp', 'overlapifg', 'prepesd', 'esd', 'rangecoreg', 'fineoffsets', 'fineresamp', 'ion', 'burstifg', 'mergebursts', 'filter', 'unwrap', 'unwrap2stage', 'geocode', 'denseoffsets', 'filteroffsets', 'geocodeoffsets']\n"
     ]
    }
   ],
   "source": [
    "!topsApp.py --dostep=preprocess"
   ]
  },
  {
   "cell_type": "code",
   "execution_count": 56,
   "id": "7f3434b1-47f1-4bad-a559-0fe919a1c077",
   "metadata": {},
   "outputs": [
    {
     "name": "stdout",
     "output_type": "stream",
     "text": [
      "This is the Open Source version of ISCE.\n",
      "Some of the workflows depend on a separate licensed package.\n",
      "To obtain the licensed package, please make a request for ISCE\n",
      "through the website: https://download.jpl.nasa.gov/ops/request/index.cfm.\n",
      "Alternatively, if you are a member, or can become a member of WinSAR\n",
      "you may be able to obtain access to a version of the licensed sofware at\n",
      "https://winsar.unavco.org/software/isce\n",
      "2022-08-09 00:16:36,617 - isce.insar - INFO - ISCE VERSION = 2.5.1, RELEASE_SVN_REVISION = ,RELEASE_DATE = 20210305, CURRENT_SVN_REVISION = \n",
      "ISCE VERSION = 2.5.1, RELEASE_SVN_REVISION = ,RELEASE_DATE = 20210305, CURRENT_SVN_REVISION = \n",
      "Step processing\n",
      "Running step computeBaselines\n",
      "Skipping processing for swath number IW-1\n",
      "No swaths contain any burst overlaps ... cannot continue for interferometry applications\n",
      "2022-08-09 00:16:36,668 - isce.topsinsar.runPreprocessor - INFO - \n",
      "####################################################################################################\n",
      "    runComputeBaseline\n",
      "----------------------------------------------------------------------------------------------------\n",
      "####################################################################################################\n",
      "Dumping the application's pickle object _insar to file  PICKLE/computeBaselines\n",
      "The remaining steps are (in order):  ['verifyDEM', 'topo', 'subsetoverlaps', 'coarseoffsets', 'coarseresamp', 'overlapifg', 'prepesd', 'esd', 'rangecoreg', 'fineoffsets', 'fineresamp', 'ion', 'burstifg', 'mergebursts', 'filter', 'unwrap', 'unwrap2stage', 'geocode', 'denseoffsets', 'filteroffsets', 'geocodeoffsets']\n"
     ]
    }
   ],
   "source": [
    "!topsApp.py --dostep=computeBaselines"
   ]
  },
  {
   "cell_type": "code",
   "execution_count": null,
   "id": "4d3a0131-8f6d-4eaa-bf74-edc6abc29342",
   "metadata": {},
   "outputs": [],
   "source": [
    "!topsApp.py --dostep=verifyDEM"
   ]
  },
  {
   "cell_type": "code",
   "execution_count": null,
   "id": "f9734643-1f0f-4154-8eae-7ac6ee103985",
   "metadata": {},
   "outputs": [],
   "source": [
    "!topsApp.py --dostep=topo"
   ]
  },
  {
   "cell_type": "code",
   "execution_count": null,
   "id": "97c17bdf-8916-483e-ab44-210ebbfc84c7",
   "metadata": {},
   "outputs": [],
   "source": [
    "!topsApp.py --start=subsetoverlaps --end=mergebursts"
   ]
  },
  {
   "cell_type": "code",
   "execution_count": null,
   "id": "87211887-016c-4c62-aa07-0349972636ee",
   "metadata": {},
   "outputs": [],
   "source": [
    "!topsApp.py --start=filter --end=geocode"
   ]
  }
 ],
 "metadata": {
  "kernelspec": {
   "display_name": "Python [conda env:isce2]",
   "language": "python",
   "name": "conda-env-isce2-py"
  },
  "language_info": {
   "codemirror_mode": {
    "name": "ipython",
    "version": 3
   },
   "file_extension": ".py",
   "mimetype": "text/x-python",
   "name": "python",
   "nbconvert_exporter": "python",
   "pygments_lexer": "ipython3",
   "version": "3.6.15"
  }
 },
 "nbformat": 4,
 "nbformat_minor": 5
}
